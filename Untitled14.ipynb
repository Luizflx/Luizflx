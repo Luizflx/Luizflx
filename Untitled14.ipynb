{
  "nbformat": 4,
  "nbformat_minor": 0,
  "metadata": {
    "colab": {
      "provenance": [],
      "authorship_tag": "ABX9TyPKarWbvfuxRWm1Q07mpunn",
      "include_colab_link": true
    },
    "kernelspec": {
      "name": "python3",
      "display_name": "Python 3"
    },
    "language_info": {
      "name": "python"
    }
  },
  "cells": [
    {
      "cell_type": "markdown",
      "metadata": {
        "id": "view-in-github",
        "colab_type": "text"
      },
      "source": [
        "<a href=\"https://colab.research.google.com/github/Luizflx/Luizflx/blob/main/Untitled14.ipynb\" target=\"_parent\"><img src=\"https://colab.research.google.com/assets/colab-badge.svg\" alt=\"Open In Colab\"/></a>"
      ]
    },
    {
      "cell_type": "code",
      "execution_count": 2,
      "metadata": {
        "colab": {
          "base_uri": "https://localhost:8080/"
        },
        "id": "k2SqHEkBiyRL",
        "outputId": "15185aea-ca13-47af-91e7-2fa536b350d0"
      },
      "outputs": [
        {
          "output_type": "stream",
          "name": "stdout",
          "text": [
            "Array original:\n",
            "[1 2 3 4 5]\n"
          ]
        }
      ],
      "source": [
        "# Importe a biblioteca Numpy\n",
        "import numpy as np\n",
        "# Criar um array Numpy de números inteiros\n",
        "ny_array = np.array([1, 2, 3, 4, 5])\n",
        "# Imprimir o array\n",
        "print(\"Array original:\")\n",
        "print(ny_array)\n",
        "\n"
      ]
    },
    {
      "cell_type": "code",
      "source": [
        "\n",
        "# Realize operações matemáticas com o array\n",
        "squared_array = ny_array ** 2 # Eleva cada elemento ao quadrado\n",
        "sum_of_elements = np.sum(ny_array) # Calcula a soma de todos os elementos\n",
        "# Imprima os resultados\n",
        "print(\"\\nArray oa quadrado:\")\n",
        "print(squared_array)\n",
        "print(\"\\nSoma de todos os elementos:\")\n",
        "print(sum_of_elements)\n",
        "# Acesso elementos do array\n",
        "element_at_index_2 = ny_array[2] # Acessa o elemento no indice 2\n",
        "print(\"\\nElemento no índice 2:\", element_at_index_2)\n",
        "\n"
      ],
      "metadata": {
        "colab": {
          "base_uri": "https://localhost:8080/"
        },
        "id": "RRA5m9U7kwxF",
        "outputId": "fa1e1f0b-7a10-4c71-ca44-f20236e009c0"
      },
      "execution_count": 5,
      "outputs": [
        {
          "output_type": "stream",
          "name": "stdout",
          "text": [
            "\n",
            "Array oa cubo:\n",
            "[ 1  4  9 16 25]\n",
            "\n",
            "Soma de todos os elementos:\n",
            "15\n",
            "\n",
            "Elemento no índice 2: 3\n"
          ]
        }
      ]
    },
    {
      "cell_type": "code",
      "source": [
        "# Importe as bibliotécas necessárias\n",
        "import numpy as np\n",
        "# Dados dos participante\n",
        "participante = [\n",
        "    {\n",
        "      \"nome\": \"Alice\",\n",
        "      \"localização\": \"EUA\",\n",
        "      \"afiliação\": \"Univercidade A\",\n",
        "      \"Interesses\": [\"Biologia\", \"Astrologia\"]\n",
        "\n",
        "    },\n",
        "    {\n",
        "      \"nome\": \"Charlie\",\n",
        "      \"localização\": \"Índia\",\n",
        "      \"afiliação\": \"Instituto C\",\n",
        "      \"Interesses\": [\"Química\", \"Engenharia\"]\n",
        "\n",
        "    }\n",
        "    # Adicione mais participantes\n",
        "\n",
        "]\n",
        "# Usando sets para identificar regiões dos participantes\n",
        "regioes = set(participante[\"localização\"] for participante in participante)\n",
        "afiliações = ()\n",
        "for participante in participantes:\n",
        "    afiliacao = participante[\"afiliação\"]\n",
        "    if afiliacao not in afiliações:\n",
        "        afiliacoes[afiliacao] = []\n",
        "    afiliacoes[afiliacao].append(participante[\"nome\"])\n",
        "    # Usando Numpy para analizar áreas de interesse\n",
        "    area_de_interesse = np.array([Interesse for participante in participantes for interesse in participante[*]\"interesses\"]])\n",
        "    areas_unicas, contagem = np.unique(area_de_interesse, return_counts=True)\n",
        "    areas_mais_popular = interesses_unicos[np.argamax(contagem)\n",
        "\n"
      ],
      "metadata": {
        "id": "aup_xM3UtJ-S"
      },
      "execution_count": null,
      "outputs": []
    },
    {
      "cell_type": "code",
      "source": [
        "# Resultados\n",
        "print(\"regiões dos participantes:\", regioes)\n",
        "print(\"Afiliações dos participantes:\")\n",
        "for afiliado"
      ],
      "metadata": {
        "id": "O1sC39TR-eM4"
      },
      "execution_count": null,
      "outputs": []
    },
    {
      "cell_type": "code",
      "source": [
        "# Define uma classe chamada pessoa\n",
        "class Pessoa:\n",
        "   # O método _init_ é um construtor, cahamado quando um objeto da clase é criado.\n",
        "   # Ele inicializa os atributos da classe.\n",
        "   def _init_(self, nome, idade, genero):\n",
        "       # self é uma convenção em python que se refere à própria instituição da classe.\n",
        "       # Os parametros nome, idade e genero são passados durante a criação do objeto.\n",
        "       # eles são usados para inicializar os atributos da instância.\n",
        "       self.nome = nome # Atribui o valor de nome ao atributo nome da instância.\n",
        "       self.idade = idade # Atribui o valor de idade ao atributo idade da instância.\n",
        "       self.genero = genero # Atribui o valor de genero ao atributo genero da instância.\n",
        "   # O metodo cumprimentar retorna uma saudação com o nome da pessoa.\n",
        "   def cumprimentar(self):\n",
        "       return f\"Olá, meu nome é {self.nome}.\"\n",
        "   # O metodo aniversário aumenta a idade da pessoa em 1.\n",
        "   def aniversario(self):\n",
        "       self.idade += 1\n",
        "# Cria uma instância da classe \"Pessoa\" com os valores \"Joâo\", 30 e \"Masculino\" para nome, idade, genero, respectivamente.\n",
        "pessoa1 = Pessoa(\"João\", 30, \"Masculino\")\n",
        "# Chama o método \"Cumprimentar\" na instância pessoa1 e imprime a saudação.\n",
        "print(pessoa1.cumprimentar()) # Saída: \"Olá, meu nome é João.\"\n",
        "# Acessa o atributo idade da instância pessoa1 e imprime sua idade.\n",
        "print(f\"Idade: {pessoa1.idade}\") # Saída: \"Idade: 30\"\n",
        "# Chama o método \"aniversario\" na instância pessoa1 para aumentar a idade em 1.\n",
        "pessoa1.aniversario()\n",
        "# Acessa o atributo idade atualizado da instância pessoa1 e imprime a nova idade.\n",
        "print(f\"Nova idade: {pessoa1.idade}\") # Saída: \"Nova idade: 31\"\n"
      ],
      "metadata": {
        "colab": {
          "base_uri": "https://localhost:8080/",
          "height": 219
        },
        "id": "SPFKfTecF08o",
        "outputId": "971e35e3-c699-4f50-ff55-9cd7b8a469b6"
      },
      "execution_count": 14,
      "outputs": [
        {
          "output_type": "error",
          "ename": "TypeError",
          "evalue": "Pessoa() takes no arguments",
          "traceback": [
            "\u001b[0;31m---------------------------------------------------------------------------\u001b[0m",
            "\u001b[0;31mTypeError\u001b[0m                                 Traceback (most recent call last)",
            "\u001b[0;32m<ipython-input-14-02a8911eae4a>\u001b[0m in \u001b[0;36m<cell line: 19>\u001b[0;34m()\u001b[0m\n\u001b[1;32m     17\u001b[0m        \u001b[0mself\u001b[0m\u001b[0;34m.\u001b[0m\u001b[0midade\u001b[0m \u001b[0;34m+=\u001b[0m \u001b[0;36m1\u001b[0m\u001b[0;34m\u001b[0m\u001b[0;34m\u001b[0m\u001b[0m\n\u001b[1;32m     18\u001b[0m \u001b[0;31m# Cria uma instância da classe \"Pessoa\" com os valores \"Joâo\", 30 e \"Masculino\" para nome, idade, genero, respectivamente.\u001b[0m\u001b[0;34m\u001b[0m\u001b[0;34m\u001b[0m\u001b[0m\n\u001b[0;32m---> 19\u001b[0;31m \u001b[0mpessoa1\u001b[0m \u001b[0;34m=\u001b[0m \u001b[0mPessoa\u001b[0m\u001b[0;34m(\u001b[0m\u001b[0;34m\"João\"\u001b[0m\u001b[0;34m,\u001b[0m \u001b[0;36m30\u001b[0m\u001b[0;34m,\u001b[0m \u001b[0;34m\"Masculino\"\u001b[0m\u001b[0;34m)\u001b[0m\u001b[0;34m\u001b[0m\u001b[0;34m\u001b[0m\u001b[0m\n\u001b[0m\u001b[1;32m     20\u001b[0m \u001b[0;31m# Chama o método \"Cumprimentar\" na instância pessoa1 e imprime a saudação.\u001b[0m\u001b[0;34m\u001b[0m\u001b[0;34m\u001b[0m\u001b[0m\n\u001b[1;32m     21\u001b[0m \u001b[0mprint\u001b[0m\u001b[0;34m(\u001b[0m\u001b[0mpessoa1\u001b[0m\u001b[0;34m.\u001b[0m\u001b[0mcumprimentar\u001b[0m\u001b[0;34m(\u001b[0m\u001b[0;34m)\u001b[0m\u001b[0;34m)\u001b[0m \u001b[0;31m# Saída: \"Olá, meu nome é João.\"\u001b[0m\u001b[0;34m\u001b[0m\u001b[0;34m\u001b[0m\u001b[0m\n",
            "\u001b[0;31mTypeError\u001b[0m: Pessoa() takes no arguments"
          ]
        }
      ]
    },
    {
      "source": [
        "# Define uma classe chamada pessoa\n",
        "class Pessoa:\n",
        "   # O método __init__ é um construtor, cahamado quando um objeto da clase é criado.\n",
        "   # Ele inicializa os atributos da classe.\n",
        "   def __init__(self, nome, idade, genero): # Changed _init_ to __init__\n",
        "       # self é uma convenção em python que se refere à própria instituição da classe.\n",
        "       # Os parametros nome, idade e genero são passados durante a criação do objeto.\n",
        "       # eles são usados para inicializar os atributos da instância.\n",
        "       self.nome = nome # Atribui o valor de nome ao atributo nome da instância.\n",
        "       self.idade = idade # Atribui o valor de idade ao atributo idade da instância.\n",
        "       self.genero = genero # Atribui o valor de genero ao atributo genero da instância.\n",
        "   # O metodo cumprimentar retorna uma saudação com o nome da pessoa.\n",
        "   def cumprimentar(self):\n",
        "       return f\"Olá, meu nome é {self.nome}.\"\n",
        "   # O metodo aniversário aumenta a idade da pessoa em 1.\n",
        "   def aniversario(self):\n",
        "       self.idade += 1\n",
        "# Cria uma instância da classe \"Pessoa\" com os valores \"Joâo\", 30 e \"Masculino\" para nome, idade, genero, respectivamente.\n",
        "pessoa1 = Pessoa(\"João\", 30, \"Masculino\")\n",
        "# Chama o método \"Cumprimentar\" na instância pessoa1 e imprime a saudação.\n",
        "print(pessoa1.cumprimentar()) # Saída: \"Olá, meu nome é João.\"\n",
        "# Acessa o atributo idade da instância pessoa1 e imprime sua idade.\n",
        "print(f\"Idade: {pessoa1.idade}\") # Saída: \"Idade: 30\"\n",
        "# Chama o método \"aniversario\" na instância pessoa1 para aumentar a idade em 1.\n",
        "pessoa1.aniversario()\n",
        "# Acessa o atributo idade atualizado da instância pessoa1 e imprime a nova idade.\n",
        "print(f\"Nova idade: {pessoa1.idade}\") # Saída: \"Nova idade: 31\""
      ],
      "cell_type": "code",
      "metadata": {
        "colab": {
          "base_uri": "https://localhost:8080/"
        },
        "id": "qtuEWfBwYmCK",
        "outputId": "80147b08-f93b-4bc6-a7c1-476c3b0f7206"
      },
      "execution_count": 16,
      "outputs": [
        {
          "output_type": "stream",
          "name": "stdout",
          "text": [
            "Olá, meu nome é João.\n",
            "Idade: 30\n",
            "Nova idade: 31\n"
          ]
        }
      ]
    }
  ]
}